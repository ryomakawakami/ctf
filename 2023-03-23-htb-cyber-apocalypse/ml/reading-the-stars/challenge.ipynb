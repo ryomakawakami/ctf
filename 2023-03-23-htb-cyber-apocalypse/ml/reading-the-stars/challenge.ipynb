{
  "cells": [
    {
      "cell_type": "markdown",
      "metadata": {
        "id": "Cer14qUtURQY"
      },
      "source": [
        "## You can possibly rerun this whole notebook but I have no idea if I reset the random seed before this successful run or not. So I didn't clear the outputs."
      ]
    },
    {
      "attachments": {},
      "cell_type": "markdown",
      "metadata": {
        "id": "wAqNvgZsTN-q"
      },
      "source": [
        "### Load files\n",
        "\n",
        "I used Google Colab for this because it was a bit faster than my laptop."
      ]
    },
    {
      "cell_type": "code",
      "execution_count": 1,
      "metadata": {
        "colab": {
          "base_uri": "https://localhost:8080/"
        },
        "id": "7CIbYn9ojn3s",
        "outputId": "38a1e1f5-e2f5-4496-be23-09400950c689"
      },
      "outputs": [
        {
          "name": "stdout",
          "output_type": "stream",
          "text": [
            "Mounted at /content/drive\n"
          ]
        }
      ],
      "source": [
        "from google.colab import drive\n",
        "drive.mount('/content/drive')"
      ]
    },
    {
      "cell_type": "code",
      "execution_count": 2,
      "metadata": {
        "colab": {
          "base_uri": "https://localhost:8080/"
        },
        "id": "xxhg5phXkWpJ",
        "outputId": "416fc8fe-ee73-4972-dba3-0ed186cfb7a0"
      },
      "outputs": [
        {
          "name": "stdout",
          "output_type": "stream",
          "text": [
            "Archive:  drive/MyDrive/train.zip\n",
            "  inflating: train.1.h5              \n",
            "  inflating: train.2.h5              \n"
          ]
        }
      ],
      "source": [
        "!unzip drive/MyDrive/train.zip"
      ]
    },
    {
      "cell_type": "markdown",
      "metadata": {
        "id": "rnA5JI6kboFx"
      },
      "source": [
        "---"
      ]
    },
    {
      "cell_type": "markdown",
      "metadata": {
        "id": "OXfbjWeHTQW-"
      },
      "source": [
        "### This part was provided by HTB"
      ]
    },
    {
      "cell_type": "code",
      "execution_count": 37,
      "metadata": {
        "cell_id": "888ef7b8db0143c4abf63348c582ffa7",
        "deepnote_app_coordinates": {
          "h": 16,
          "w": 12,
          "x": 0,
          "y": 6
        },
        "deepnote_cell_type": "code",
        "deepnote_to_be_reexecuted": false,
        "execution_millis": 2006,
        "execution_start": 1678285664107,
        "id": "cnbyOMLvDBqJ",
        "source_hash": "d1ecb257",
        "tags": []
      },
      "outputs": [],
      "source": [
        "import numpy as np\n",
        "import matplotlib.pyplot as plt\n",
        "import matplotlib\n",
        "\n",
        "import torch\n",
        "from torch import nn\n",
        "from torchvision import transforms\n",
        "preprocess = transforms.Compose([\n",
        "    transforms.Normalize(\n",
        "        mean=np.array([0.1086, 0.0934, 0.0711]),\n",
        "        std=np.array([0.1472, 0.123, 0.1032]))\n",
        "])\n",
        "\n",
        "import h5py\n",
        "\n",
        "SEED = 1337\n",
        "torch.manual_seed(SEED)\n",
        "np.random.seed(SEED)\n",
        "torch.use_deterministic_algorithms(True)\n",
        "\n",
        "from model import StarChartModel, StarData"
      ]
    },
    {
      "cell_type": "code",
      "execution_count": 38,
      "metadata": {
        "cell_id": "8688086be0924bc1ac32923003ba0eef",
        "deepnote_app_coordinates": {
          "h": 5,
          "w": 12,
          "x": 0,
          "y": 23
        },
        "deepnote_cell_type": "code",
        "deepnote_to_be_reexecuted": false,
        "execution_millis": 296,
        "execution_start": 1678285666114,
        "id": "WZ8I_CGjDBqL",
        "source_hash": "cc097ebf",
        "tags": []
      },
      "outputs": [],
      "source": [
        "with h5py.File(\"train.1.h5\", \"r\") as F:\n",
        "    train_images1 = np.array(F[\"X\"])\n",
        "    train_labels1 = np.array(F[\"y\"])\n",
        "with h5py.File(\"train.2.h5\", \"r\") as F:\n",
        "    train_images2 = np.array(F[\"X\"])\n",
        "    train_labels2 = np.array(F[\"y\"])\n",
        "train_images = np.concatenate((train_images1, train_images2))\n",
        "train_labels = np.concatenate((train_labels1, train_labels2))"
      ]
    },
    {
      "cell_type": "code",
      "execution_count": 39,
      "metadata": {
        "cell_id": "88421b5f96204c07bad50bcb5353e295",
        "deepnote_app_coordinates": {
          "h": 6,
          "w": 12,
          "x": 0,
          "y": 29
        },
        "deepnote_cell_type": "code",
        "deepnote_to_be_reexecuted": false,
        "execution_millis": 364,
        "execution_start": 1678285666411,
        "id": "v2n9HJJ-DBqM",
        "source_hash": "76bc7c78",
        "tags": []
      },
      "outputs": [],
      "source": [
        "batch_size = 32\n",
        "train_set = StarData((train_images.transpose(0,3,1,2)/255), train_labels, transform=preprocess)\n",
        "train_loader = torch.utils.data.DataLoader(train_set, batch_size=batch_size,\n",
        "    shuffle=True, num_workers=1, pin_memory=True)"
      ]
    },
    {
      "cell_type": "code",
      "execution_count": 40,
      "metadata": {
        "cell_id": "a8879eef501d4a499f3ad5a0c6abc27f",
        "deepnote_app_coordinates": {
          "h": 3,
          "w": 12,
          "x": 0,
          "y": 36
        },
        "deepnote_cell_type": "code",
        "deepnote_to_be_reexecuted": false,
        "execution_millis": 4,
        "execution_start": 1678285666776,
        "id": "EaWK7Xg7DBqN",
        "source_hash": "bad507f7",
        "tags": []
      },
      "outputs": [],
      "source": [
        "flag = np.zeros((33,33))"
      ]
    },
    {
      "attachments": {},
      "cell_type": "markdown",
      "metadata": {
        "id": "9lIOHv2xTV8z"
      },
      "source": [
        "I messed around with the dropout rates and the learning rate a lot. The 0.5 0.5 dropout was what ended up working out."
      ]
    },
    {
      "cell_type": "code",
      "execution_count": 41,
      "metadata": {
        "cell_id": "47f7c61bf5f641639e244778ce94f8fb",
        "deepnote_cell_type": "code",
        "id": "mZE3SFWDDBqO",
        "tags": []
      },
      "outputs": [],
      "source": [
        "model = StarChartModel([0.5,0.5])\n",
        "model.train()\n",
        "\n",
        "loss_func = nn.CrossEntropyLoss()\n",
        "optimizer = torch.optim.Adam(model.parameters(), 0.0005)"
      ]
    },
    {
      "cell_type": "markdown",
      "metadata": {
        "id": "KMkHlmsKDBqP"
      },
      "source": [
        "---"
      ]
    },
    {
      "attachments": {},
      "cell_type": "markdown",
      "metadata": {
        "id": "et8cqYsoDBqV"
      },
      "source": [
        "### Let's train the network\n",
        "\n",
        "Looks like input is 3x69x69 and output is 2 (mini batch size is 32). We'll go for 40 epochs and save the model after each epoch."
      ]
    },
    {
      "cell_type": "code",
      "execution_count": 42,
      "metadata": {
        "id": "37g1R5AGQSaW"
      },
      "outputs": [],
      "source": [
        "losses = []"
      ]
    },
    {
      "cell_type": "code",
      "execution_count": 43,
      "metadata": {
        "colab": {
          "base_uri": "https://localhost:8080/"
        },
        "id": "1S29fyIPDBqW",
        "outputId": "5572b44c-0971-49c9-d080-36fe0a6907ea"
      },
      "outputs": [
        {
          "name": "stdout",
          "output_type": "stream",
          "text": [
            "0.93 0.71 0.70 0.70 0.69 0.69 0.68 0.68 0.68 0.68 0.68 Epoch 0: 0.6734472953521453\n",
            "0.87 0.67 0.66 0.65 0.65 0.64 0.64 0.64 0.64 0.63 0.63 Epoch 1: 0.6204317920021825\n",
            "0.71 0.61 0.57 0.57 0.56 0.56 0.55 0.54 0.54 0.54 0.53 Epoch 2: 0.530477842142632\n",
            "0.69 0.54 0.52 0.51 0.51 0.50 0.49 0.49 0.49 0.49 0.48 Epoch 3: 0.4826522107954856\n",
            "0.66 0.49 0.48 0.48 0.48 0.47 0.47 0.47 0.47 0.47 0.47 Epoch 4: 0.4683595749887976\n",
            "0.60 0.46 0.45 0.45 0.45 0.45 0.45 0.45 0.45 0.45 0.45 Epoch 5: 0.45080138586304924\n",
            "0.57 0.45 0.45 0.44 0.44 0.44 0.44 0.44 0.44 0.44 0.44 Epoch 6: 0.4352123092960667\n",
            "0.56 0.45 0.44 0.44 0.44 0.44 0.43 0.43 0.43 0.43 0.43 Epoch 7: 0.4307665309390506\n",
            "0.52 0.43 0.43 0.43 0.43 0.43 0.43 0.43 0.43 0.43 0.43 Epoch 8: 0.4307752503110124\n",
            "0.59 0.42 0.42 0.42 0.42 0.42 0.42 0.42 0.42 0.42 0.42 Epoch 9: 0.41774195450562257\n",
            "0.58 0.43 0.43 0.42 0.42 0.42 0.42 0.42 0.42 0.42 0.42 Epoch 10: 0.4186585026460367\n",
            "0.50 0.43 0.43 0.43 0.43 0.43 0.43 0.42 0.42 0.42 0.42 Epoch 11: 0.41792935016634947\n",
            "0.58 0.42 0.42 0.41 0.41 0.41 0.41 0.41 0.41 0.41 0.41 Epoch 12: 0.4135131808193596\n",
            "0.59 0.43 0.42 0.42 0.42 0.42 0.42 0.42 0.41 0.42 0.42 Epoch 13: 0.413941688276268\n",
            "0.56 0.43 0.42 0.42 0.42 0.42 0.42 0.42 0.42 0.42 0.42 Epoch 14: 0.4161466815629163\n",
            "0.54 0.43 0.42 0.42 0.42 0.42 0.41 0.41 0.41 0.41 0.41 Epoch 15: 0.41084922004390406\n",
            "0.53 0.42 0.41 0.41 0.41 0.41 0.41 0.41 0.41 0.41 0.41 Epoch 16: 0.4069505895938243\n",
            "0.52 0.41 0.41 0.41 0.41 0.41 0.41 0.41 0.40 0.40 0.40 Epoch 17: 0.4029010493118126\n",
            "0.60 0.44 0.42 0.41 0.42 0.42 0.42 0.42 0.41 0.41 0.41 Epoch 18: 0.40858403116733105\n",
            "0.51 0.42 0.41 0.41 0.41 0.41 0.41 0.41 0.40 0.40 0.40 Epoch 19: 0.40294490526388355\n",
            "0.50 0.42 0.40 0.40 0.40 0.40 0.40 0.40 0.40 0.40 0.40 Epoch 20: 0.3970559116777357\n",
            "0.46 0.40 0.41 0.40 0.40 0.40 0.40 0.40 0.40 0.40 0.40 Epoch 21: 0.402267992406994\n",
            "0.57 0.41 0.40 0.41 0.41 0.41 0.41 0.40 0.40 0.40 0.40 Epoch 22: 0.3986557015964577\n",
            "0.55 0.40 0.39 0.40 0.40 0.40 0.40 0.40 0.40 0.40 0.40 Epoch 23: 0.40189069428959406\n",
            "0.49 0.41 0.40 0.40 0.39 0.39 0.39 0.39 0.39 0.39 0.40 Epoch 24: 0.39521393967462376\n",
            "0.55 0.40 0.39 0.39 0.40 0.40 0.39 0.39 0.39 0.39 0.39 Epoch 25: 0.3924528382740937\n",
            "0.50 0.40 0.40 0.40 0.40 0.40 0.40 0.39 0.39 0.39 0.39 Epoch 26: 0.3932042086088622\n",
            "0.53 0.41 0.40 0.40 0.40 0.40 0.40 0.40 0.40 0.40 0.40 Epoch 27: 0.39927480161727014\n",
            "0.55 0.41 0.40 0.40 0.40 0.40 0.40 0.40 0.39 0.39 0.39 Epoch 28: 0.3913393928124024\n",
            "0.52 0.40 0.40 0.39 0.40 0.39 0.39 0.39 0.39 0.39 0.39 Epoch 29: 0.39198290558906645\n",
            "0.57 0.42 0.41 0.40 0.40 0.40 0.40 0.40 0.40 0.40 0.40 Epoch 30: 0.39560784663523996\n",
            "0.55 0.41 0.40 0.40 0.40 0.40 0.40 0.40 0.40 0.40 0.40 Epoch 31: 0.39403882837510323\n",
            "0.53 0.40 0.40 0.40 0.40 0.39 0.39 0.39 0.39 0.39 0.39 Epoch 32: 0.38882952498960066\n",
            "0.50 0.40 0.40 0.39 0.39 0.39 0.39 0.39 0.39 0.39 0.39 Epoch 33: 0.39095142841697095\n",
            "0.55 0.40 0.40 0.40 0.40 0.40 0.39 0.39 0.39 0.39 0.39 Epoch 34: 0.3894082358828536\n",
            "0.51 0.40 0.40 0.39 0.39 0.39 0.39 0.39 0.39 0.39 0.39 Epoch 35: 0.39001279899307917\n",
            "0.53 0.41 0.40 0.39 0.39 0.39 0.39 0.39 0.39 0.39 0.39 Epoch 36: 0.39202476961834654\n",
            "0.55 0.39 0.38 0.39 0.39 0.39 0.39 0.39 0.39 0.39 0.39 Epoch 37: 0.3922418417694332\n",
            "0.45 0.41 0.40 0.40 0.40 0.40 0.40 0.40 0.40 0.40 0.40 Epoch 38: 0.39215761906391866\n",
            "0.55 0.43 0.41 0.40 0.40 0.40 0.40 0.40 0.39 0.39 0.39 Epoch 39: 0.3923862411811187\n"
          ]
        }
      ],
      "source": [
        "n_epochs = 40\n",
        "for epoch in range(n_epochs):\n",
        "    counter = 0\n",
        "    total_loss = 0\n",
        "    for X_batch, y_batch, aa in train_loader:\n",
        "        y_pred = model(X_batch)\n",
        "        loss = loss_func(y_pred, y_batch)\n",
        "        optimizer.zero_grad()\n",
        "        loss.backward()\n",
        "        optimizer.step()\n",
        "        total_loss += loss.item()\n",
        "        if counter % 30 == 3:\n",
        "          print(f'{total_loss / counter:.2f} ', end='')\n",
        "        counter += 1\n",
        "    loss = total_loss / counter\n",
        "    losses.append(loss)\n",
        "    print(f'Epoch {epoch}: {loss}')\n",
        "    torch.save(model, f'model{epoch:02}.pt')"
      ]
    },
    {
      "cell_type": "code",
      "execution_count": 68,
      "metadata": {
        "colab": {
          "base_uri": "https://localhost:8080/",
          "height": 295
        },
        "id": "DKPsluHjDBqX",
        "outputId": "1a277326-9b24-4351-e424-73352420d803"
      },
      "outputs": [
        {
          "data": {
            "image/png": "[encoded data removed]",
            "text/plain": [
              "<Figure size 432x288 with 1 Axes>"
            ]
          },
          "metadata": {
            "needs_background": "light"
          },
          "output_type": "display_data"
        }
      ],
      "source": [
        "losses = [float(x) for x in losses]\n",
        "plt.plot(losses)\n",
        "plt.title('Dropout 0.5 0.5 LR 0.0005')\n",
        "plt.xlabel('Epoch')\n",
        "plt.ylabel('Average loss')\n",
        "plt.show()"
      ]
    },
    {
      "attachments": {},
      "cell_type": "markdown",
      "metadata": {},
      "source": [
        "Looks pretty converged."
      ]
    },
    {
      "cell_type": "markdown",
      "metadata": {
        "id": "XuMai_LaDBqY"
      },
      "source": [
        "---"
      ]
    },
    {
      "attachments": {},
      "cell_type": "markdown",
      "metadata": {
        "id": "vuQvC1toTw8z"
      },
      "source": [
        "### Now let's see if the model gets us anything"
      ]
    },
    {
      "attachments": {},
      "cell_type": "markdown",
      "metadata": {},
      "source": [
        "Get all the test data"
      ]
    },
    {
      "cell_type": "code",
      "execution_count": 19,
      "metadata": {
        "colab": {
          "base_uri": "https://localhost:8080/"
        },
        "id": "9ZHC9I7SJDzz",
        "outputId": "9b8bf11c-4d87-4ffb-f3b6-b56500a70013"
      },
      "outputs": [
        {
          "name": "stdout",
          "output_type": "stream",
          "text": [
            "Archive:  drive/MyDrive/test.h5.zip\n",
            "  inflating: test.h5                 \n"
          ]
        }
      ],
      "source": [
        "!unzip drive/MyDrive/test.h5.zip"
      ]
    },
    {
      "cell_type": "code",
      "execution_count": 3,
      "metadata": {
        "id": "yvAaBL4hDBqZ"
      },
      "outputs": [
        {
          "data": {
            "text/plain": [
              "(33, 33, 2, 69, 69, 3)"
            ]
          },
          "execution_count": 3,
          "metadata": {},
          "output_type": "execute_result"
        }
      ],
      "source": [
        "test_images = None\n",
        "with h5py.File(\"test.h5\", \"r\") as f:\n",
        "    test_images = np.array(f[\"X\"])\n",
        "test_images.shape"
      ]
    },
    {
      "attachments": {},
      "cell_type": "markdown",
      "metadata": {},
      "source": [
        "This is kind of weird. The QR code we're trying to get is 33x33, so the first 2 dimensions make sense. The inputs to the model are supposed to be 3x69x69, so the last 3 dimensions make sense as well. The third dimension is kind of left over. We are going to end up with two 33x33 images if we put the test data through the model. This was something I messed around with quite a lot."
      ]
    },
    {
      "attachments": {},
      "cell_type": "markdown",
      "metadata": {},
      "source": [
        "This function returns the model's output for the test data (two 33x33 arrays)."
      ]
    },
    {
      "cell_type": "code",
      "execution_count": 45,
      "metadata": {
        "id": "p_1jASeYb8Bz"
      },
      "outputs": [],
      "source": [
        "def get_outputs(model, raw=False):\n",
        "    output1 = np.zeros((33, 33))\n",
        "    output2 = np.zeros((33, 33))\n",
        "    for i in range(33):\n",
        "        for j in range(33):\n",
        "            a = test_images[i][j][0]\n",
        "            a = preprocess(torch.tensor(a.reshape((1, 69, 69, 3)).transpose(0, 3, 1, 2)/255).float())\n",
        "            output = model(a)\n",
        "            if raw:\n",
        "              output1[i, j] = float(output[0][1])\n",
        "            else:\n",
        "              output1[i, j] = int(output.argmax())\n",
        "\n",
        "            a = test_images[i][j][1]\n",
        "            a = preprocess(torch.tensor(a.reshape((1, 69, 69, 3)).transpose(0, 3, 1, 2)/255).float())\n",
        "            output = model(a)\n",
        "            if raw:\n",
        "              output2[i, j] = float(output[0][1])\n",
        "            else:\n",
        "              output2[i, j] = int(output.argmax())\n",
        "\n",
        "    return output1, output2"
      ]
    },
    {
      "attachments": {},
      "cell_type": "markdown",
      "metadata": {},
      "source": [
        "---\n",
        "Now that we have the model outputs, it's just a matter of figuring out how to put them together.\n",
        "\n",
        "The following sections are some things I tried."
      ]
    },
    {
      "attachments": {},
      "cell_type": "markdown",
      "metadata": {
        "id": "HRquRLc3cNAs"
      },
      "source": [
        "---\n",
        "Let's try to fill out the mask.png a bunch of different ways."
      ]
    },
    {
      "cell_type": "code",
      "execution_count": 22,
      "metadata": {
        "id": "q4t18dfIcNdc"
      },
      "outputs": [],
      "source": [
        "from PIL import Image"
      ]
    },
    {
      "cell_type": "code",
      "execution_count": 46,
      "metadata": {
        "id": "14obGRp7cR5g"
      },
      "outputs": [],
      "source": [
        "# set_white should return true if that pixel should be set white\n",
        "def get_qr(set_white, ouput1, output2, name='', show=True):\n",
        "    mask = Image.open('mask.png').convert('L')\n",
        "    for i in range(33):\n",
        "        for j in range(33):\n",
        "            if mask.getpixel((i, j)) != 0 and mask.getpixel((i, j)) != 255:\n",
        "                if set_white(output1[i, j], output2[i, j]):\n",
        "                    mask.putpixel((i, j), 255)\n",
        "                else:\n",
        "                    mask.putpixel((i, j), 0)\n",
        "    if show:\n",
        "        plt.imshow(mask, cmap='gray')\n",
        "        plt.show()\n",
        "        mask.save(name)\n",
        "    else:\n",
        "        return mask"
      ]
    },
    {
      "cell_type": "code",
      "execution_count": 29,
      "metadata": {
        "id": "cMiT3IErggXF"
      },
      "outputs": [],
      "source": [
        "from pyzbar.pyzbar import decode"
      ]
    },
    {
      "attachments": {},
      "cell_type": "markdown",
      "metadata": {},
      "source": [
        "Loop through every model we made and combine the two outputs in different ways. We're using a library to decode QR codes automatically, although I honestly don't really know how well it works.\n",
        "\n",
        "Nothing came out of this anyway."
      ]
    },
    {
      "cell_type": "code",
      "execution_count": 48,
      "metadata": {
        "id": "FKoqMR1RcVuz"
      },
      "outputs": [],
      "source": [
        "for i in range(n_epochs):\n",
        "    model = torch.load(f'model{i:02}.pt')\n",
        "    model.eval()\n",
        "    output1, output2 = get_outputs(model)\n",
        "    imgs = []\n",
        "    imgs.append(get_qr(lambda o1, o2: o1 == 1, output1, output2, show=False))\n",
        "    imgs.append(get_qr(lambda o1, o2: o2 == 1, output1, output2, show=False))\n",
        "    imgs.append(get_qr(lambda o1, o2: o1 == 0, output1, output2, show=False))\n",
        "    imgs.append(get_qr(lambda o1, o2: o2 == 0, output1, output2, show=False))\n",
        "    imgs.append(get_qr(lambda o1, o2: True if (o1 == 1 and o2 == 1) else False, output1, output2, show=False))\n",
        "    imgs.append(get_qr(lambda o1, o2: True if (o1 == 1 or o2 == 1) else False, output1, output2, show=False))\n",
        "    imgs.append(get_qr(lambda o1, o2: True if (o1 == 0 and o2 == 0) else False, output1, output2, show=False))\n",
        "    imgs.append(get_qr(lambda o1, o2: True if (o1 == 0 or o2 == 0) else False, output1, output2, show=False))\n",
        "    for j, img in enumerate(imgs):\n",
        "      if decode(img):\n",
        "        print(f'{i} img{j}')"
      ]
    },
    {
      "attachments": {},
      "cell_type": "markdown",
      "metadata": {
        "id": "ZbspssW1ifSb"
      },
      "source": [
        "---\n",
        "How does the difference between output1 and output2 change as we train? Are they supposed to converge into the same image eventually?"
      ]
    },
    {
      "cell_type": "code",
      "execution_count": 49,
      "metadata": {
        "id": "a4JcxC69hQI_"
      },
      "outputs": [],
      "source": [
        "diff = []\n",
        "for i in range(n_epochs):\n",
        "    model = torch.load(f'model{i:02}.pt')\n",
        "    model.eval()\n",
        "    output1, output2 = get_outputs(model, raw=True)\n",
        "    diff.append(np.absolute(output1 - output2).sum())"
      ]
    },
    {
      "cell_type": "code",
      "execution_count": 32,
      "metadata": {
        "colab": {
          "base_uri": "https://localhost:8080/",
          "height": 266
        },
        "id": "SBP59mttiyxl",
        "outputId": "095bc5eb-1808-44b5-bf4f-5a869b52db89"
      },
      "outputs": [
        {
          "data": {
            "image/png": "[encoded data removed]",
            "text/plain": [
              "<Figure size 432x288 with 1 Axes>"
            ]
          },
          "metadata": {
            "needs_background": "light"
          },
          "output_type": "display_data"
        }
      ],
      "source": [
        "plt.plot(diff)\n",
        "plt.show()"
      ]
    },
    {
      "attachments": {},
      "cell_type": "markdown",
      "metadata": {},
      "source": [
        "Looks like it. Maybe we'll take the average of the raw outputs of the two arrays and try to find a good weighted sum."
      ]
    },
    {
      "cell_type": "markdown",
      "metadata": {
        "id": "ulVMbH82kWfU"
      },
      "source": [
        "---\n",
        "A lot of manual effort later:"
      ]
    },
    {
      "cell_type": "code",
      "execution_count": 67,
      "metadata": {
        "colab": {
          "base_uri": "https://localhost:8080/",
          "height": 266
        },
        "id": "qVozFKW0kCQn",
        "outputId": "8f8eb29c-d9df-4f19-cc22-89fe426cf892"
      },
      "outputs": [
        {
          "data": {
            "image/png": "[encoded data removed]",
            "text/plain": [
              "<Figure size 432x288 with 1 Axes>"
            ]
          },
          "metadata": {
            "needs_background": "light"
          },
          "output_type": "display_data"
        }
      ],
      "source": [
        "model = torch.load(f'model38.pt')\n",
        "model.eval()\n",
        "output1, output2 = get_outputs(model, raw=True)\n",
        "plt.imshow((output1+output2)>1, cmap='gray')\n",
        "plt.show()"
      ]
    }
  ],
  "metadata": {
    "accelerator": "GPU",
    "colab": {
      "provenance": []
    },
    "deepnote": {},
    "deepnote_app_layout": "article",
    "deepnote_execution_queue": [],
    "deepnote_notebook_id": "19b7cbf3eabc432d8a95d377aff22e0c",
    "gpuClass": "standard",
    "kernelspec": {
      "display_name": "Python 3",
      "language": "python",
      "name": "python3"
    },
    "language_info": {
      "codemirror_mode": {
        "name": "ipython",
        "version": 3
      },
      "file_extension": ".py",
      "mimetype": "text/x-python",
      "name": "python",
      "nbconvert_exporter": "python",
      "pygments_lexer": "ipython3",
      "version": "3.8.10"
    }
  },
  "nbformat": 4,
  "nbformat_minor": 0
}
