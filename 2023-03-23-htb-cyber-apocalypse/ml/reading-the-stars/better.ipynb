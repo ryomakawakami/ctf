{
  "cells": [
    {
      "cell_type": "markdown",
      "metadata": {
        "id": "Cer14qUtURQY"
      },
      "source": [
        "## You can possibly rerun this whole notebook but I have no idea if I reset the random seed before this successful run or not. So I didn't clear the outputs."
      ]
    },
    {
      "cell_type": "markdown",
      "metadata": {
        "id": "wAqNvgZsTN-q"
      },
      "source": [
        "### Load files"
      ]
    },
    {
      "cell_type": "code",
      "execution_count": null,
      "metadata": {
        "colab": {
          "base_uri": "https://localhost:8080/"
        },
        "id": "7CIbYn9ojn3s",
        "outputId": "08ba7c1b-16f4-4b79-851d-05a89cff60ee"
      },
      "outputs": [
        {
          "name": "stdout",
          "output_type": "stream",
          "text": [
            "Mounted at /content/drive\n"
          ]
        }
      ],
      "source": [
        "from google.colab import drive\n",
        "drive.mount('/content/drive')"
      ]
    },
    {
      "cell_type": "code",
      "execution_count": null,
      "metadata": {
        "colab": {
          "base_uri": "https://localhost:8080/"
        },
        "id": "xxhg5phXkWpJ",
        "outputId": "ac516c0f-639a-4f0d-fb95-a8860fa79f47"
      },
      "outputs": [
        {
          "name": "stdout",
          "output_type": "stream",
          "text": [
            "Archive:  drive/MyDrive/train.zip\n",
            "  inflating: train.1.h5              \n",
            "  inflating: train.2.h5              \n"
          ]
        }
      ],
      "source": [
        "!unzip drive/MyDrive/train.zip"
      ]
    },
    {
      "cell_type": "markdown",
      "metadata": {
        "id": "rnA5JI6kboFx"
      },
      "source": [
        "---"
      ]
    },
    {
      "cell_type": "markdown",
      "metadata": {
        "id": "OXfbjWeHTQW-"
      },
      "source": [
        "### This part was provided by HTB"
      ]
    },
    {
      "cell_type": "code",
      "execution_count": null,
      "metadata": {
        "id": "cnbyOMLvDBqJ"
      },
      "outputs": [],
      "source": [
        "import numpy as np\n",
        "import matplotlib.pyplot as plt\n",
        "import matplotlib\n",
        "\n",
        "import torch\n",
        "from torch import nn\n",
        "from torchvision import transforms\n",
        "preprocess = transforms.Compose([\n",
        "    transforms.Normalize(\n",
        "        mean=np.array([0.1086, 0.0934, 0.0711]),\n",
        "        std=np.array([0.1472, 0.123, 0.1032]))\n",
        "])\n",
        "\n",
        "import h5py\n",
        "\n",
        "SEED = 1337\n",
        "torch.manual_seed(SEED)\n",
        "np.random.seed(SEED)\n",
        "torch.use_deterministic_algorithms(True)\n",
        "\n",
        "from model import StarChartModel, StarData"
      ]
    },
    {
      "cell_type": "code",
      "execution_count": null,
      "metadata": {
        "id": "WZ8I_CGjDBqL"
      },
      "outputs": [],
      "source": [
        "with h5py.File(\"train.1.h5\", \"r\") as F:\n",
        "    train_images1 = np.array(F[\"X\"])\n",
        "    train_labels1 = np.array(F[\"y\"])\n",
        "with h5py.File(\"train.2.h5\", \"r\") as F:\n",
        "    train_images2 = np.array(F[\"X\"])\n",
        "    train_labels2 = np.array(F[\"y\"])\n",
        "train_images = np.concatenate((train_images1, train_images2))\n",
        "train_labels = np.concatenate((train_labels1, train_labels2))"
      ]
    },
    {
      "cell_type": "code",
      "execution_count": null,
      "metadata": {
        "id": "v2n9HJJ-DBqM"
      },
      "outputs": [],
      "source": [
        "batch_size = 32\n",
        "train_set = StarData((train_images.transpose(0,3,1,2)/255), train_labels, transform=preprocess)\n",
        "train_loader = torch.utils.data.DataLoader(train_set, batch_size=batch_size,\n",
        "    shuffle=True, num_workers=1, pin_memory=True)"
      ]
    },
    {
      "cell_type": "code",
      "execution_count": null,
      "metadata": {
        "id": "EaWK7Xg7DBqN"
      },
      "outputs": [],
      "source": [
        "flag = np.zeros((33,33))"
      ]
    },
    {
      "cell_type": "markdown",
      "metadata": {
        "id": "9lIOHv2xTV8z"
      },
      "source": [
        "I messed around with the dropout rates and the learning rate a lot."
      ]
    },
    {
      "cell_type": "code",
      "execution_count": null,
      "metadata": {
        "id": "mZE3SFWDDBqO"
      },
      "outputs": [],
      "source": [
        "model = StarChartModel([0.3,0.15])\n",
        "model.train()\n",
        "\n",
        "loss_func = nn.CrossEntropyLoss()\n",
        "optimizer = torch.optim.Adam(model.parameters(), 0.0005)"
      ]
    },
    {
      "cell_type": "markdown",
      "metadata": {
        "id": "KMkHlmsKDBqP"
      },
      "source": [
        "---"
      ]
    },
    {
      "cell_type": "markdown",
      "metadata": {
        "id": "et8cqYsoDBqV"
      },
      "source": [
        "### Let's train the network\n",
        "\n",
        "Looks like input is 3x69x69 and output is 2 (mini batch size is 32)"
      ]
    },
    {
      "cell_type": "code",
      "execution_count": null,
      "metadata": {
        "id": "37g1R5AGQSaW"
      },
      "outputs": [],
      "source": [
        "losses = []"
      ]
    },
    {
      "cell_type": "code",
      "execution_count": null,
      "metadata": {
        "colab": {
          "base_uri": "https://localhost:8080/"
        },
        "id": "1S29fyIPDBqW",
        "outputId": "52304f47-2057-4488-d18a-839f71793454"
      },
      "outputs": [
        {
          "name": "stdout",
          "output_type": "stream",
          "text": [
            "0.92 0.71 0.69 0.69 0.69 0.68 0.68 0.68 0.67 0.67 0.66 Epoch 0: 0.6509611524261154\n",
            "0.75 0.56 0.54 0.53 0.52 0.51 0.51 0.51 0.50 0.49 0.49 Epoch 1: 0.4864505327141679\n",
            "0.61 0.48 0.46 0.46 0.45 0.45 0.45 0.44 0.44 0.44 0.44 Epoch 2: 0.43680423032772075\n",
            "0.55 0.42 0.42 0.42 0.42 0.42 0.42 0.42 0.42 0.42 0.42 Epoch 3: 0.4187092185020447\n",
            "0.59 0.42 0.41 0.41 0.41 0.41 0.41 0.41 0.41 0.41 0.41 Epoch 4: 0.4085411499212454\n",
            "0.56 0.40 0.40 0.40 0.40 0.40 0.40 0.40 0.40 0.40 0.40 Epoch 5: 0.3983135642232122\n",
            "0.55 0.42 0.41 0.41 0.40 0.40 0.40 0.40 0.40 0.40 0.39 Epoch 6: 0.39302727750113775\n",
            "0.52 0.41 0.40 0.40 0.39 0.39 0.39 0.39 0.39 0.39 0.39 Epoch 7: 0.38886457377367906\n",
            "0.50 0.39 0.39 0.39 0.39 0.39 0.39 0.39 0.39 0.39 0.39 Epoch 8: 0.38592621379786424\n",
            "0.54 0.39 0.39 0.38 0.38 0.38 0.38 0.38 0.38 0.38 0.38 Epoch 9: 0.3800247691952072\n",
            "0.49 0.38 0.38 0.38 0.38 0.38 0.38 0.38 0.38 0.38 0.38 Epoch 10: 0.3824017789807764\n",
            "0.46 0.39 0.38 0.38 0.38 0.38 0.38 0.38 0.38 0.38 0.38 Epoch 11: 0.3785712498802323\n",
            "0.51 0.39 0.38 0.38 0.38 0.38 0.38 0.38 0.37 0.38 0.38 Epoch 12: 0.374857823680471\n",
            "0.46 0.38 0.38 0.38 0.38 0.37 0.37 0.37 0.37 0.37 0.37 Epoch 13: 0.3709162845088913\n",
            "0.54 0.39 0.38 0.38 0.38 0.38 0.38 0.37 0.37 0.37 0.38 Epoch 14: 0.3745913607580168\n"
          ]
        }
      ],
      "source": [
        "n_epochs = 15\n",
        "for epoch in range(n_epochs):\n",
        "    counter = 0\n",
        "    total_loss = 0\n",
        "    for X_batch, y_batch, aa in train_loader:\n",
        "        y_pred = model(X_batch)\n",
        "        loss = loss_func(y_pred, y_batch)\n",
        "        optimizer.zero_grad()\n",
        "        loss.backward()\n",
        "        optimizer.step()\n",
        "        total_loss += loss.item()\n",
        "        if counter % 30 == 3:\n",
        "          print(f'{total_loss / counter:.2f} ', end='')\n",
        "        counter += 1\n",
        "    loss = total_loss / counter\n",
        "    losses.append(loss)\n",
        "    print(f'Epoch {epoch}: {loss}')\n",
        "    torch.save(model, f'model{epoch:02}.pt')"
      ]
    },
    {
      "cell_type": "code",
      "execution_count": null,
      "metadata": {
        "colab": {
          "base_uri": "https://localhost:8080/",
          "height": 295
        },
        "id": "DKPsluHjDBqX",
        "outputId": "7696632d-0567-4f88-d2f0-9b2122bcb66d"
      },
      "outputs": [
        {
          "data": {
            "image/png": "[encoded data removed]",
            "text/plain": [
              "<Figure size 432x288 with 1 Axes>"
            ]
          },
          "metadata": {},
          "output_type": "display_data"
        }
      ],
      "source": [
        "losses = [float(x) for x in losses]\n",
        "plt.plot(losses)\n",
        "plt.title('Dropout 0.5 0.5 LR 0.0005')\n",
        "plt.xlabel('Epoch')\n",
        "plt.ylabel('Average loss')\n",
        "plt.show()"
      ]
    },
    {
      "cell_type": "markdown",
      "metadata": {
        "id": "XuMai_LaDBqY"
      },
      "source": [
        "---"
      ]
    },
    {
      "cell_type": "markdown",
      "metadata": {
        "id": "vuQvC1toTw8z"
      },
      "source": [
        "### Now let's see if we got anything"
      ]
    },
    {
      "cell_type": "code",
      "execution_count": null,
      "metadata": {
        "colab": {
          "base_uri": "https://localhost:8080/"
        },
        "id": "9ZHC9I7SJDzz",
        "outputId": "561d223d-56fa-4762-c77b-67de22750db2"
      },
      "outputs": [
        {
          "name": "stdout",
          "output_type": "stream",
          "text": [
            "Archive:  drive/MyDrive/test.h5.zip\n",
            "  inflating: test.h5                 \n"
          ]
        }
      ],
      "source": [
        "!unzip drive/MyDrive/test.h5.zip"
      ]
    },
    {
      "cell_type": "code",
      "execution_count": null,
      "metadata": {
        "id": "yvAaBL4hDBqZ"
      },
      "outputs": [],
      "source": [
        "with h5py.File(\"test.h5\", \"r\") as f:\n",
        "    test_images = np.array(f[\"X\"])"
      ]
    },
    {
      "cell_type": "code",
      "execution_count": null,
      "metadata": {
        "id": "p_1jASeYb8Bz"
      },
      "outputs": [],
      "source": [
        "def get_outputs(model, raw=False):\n",
        "    output1 = np.zeros((33, 33))\n",
        "    output2 = np.zeros((33, 33))\n",
        "    for i in range(33):\n",
        "        for j in range(33):\n",
        "            a = test_images[i][j][0]\n",
        "            a = preprocess(torch.tensor(a.reshape((1, 69, 69, 3)).transpose(0, 3, 1, 2)/255).float())\n",
        "            output = model(a)\n",
        "            if raw:\n",
        "              output1[i, j] = float(output[0][1])\n",
        "            else:\n",
        "              output1[i, j] = int(output.argmax())\n",
        "\n",
        "            a = test_images[i][j][1]\n",
        "            a = preprocess(torch.tensor(a.reshape((1, 69, 69, 3)).transpose(0, 3, 1, 2)/255).float())\n",
        "            output = model(a)\n",
        "            if raw:\n",
        "              output2[i, j] = float(output[0][1])\n",
        "            else:\n",
        "              output2[i, j] = int(output.argmax())\n",
        "\n",
        "    return output1, output2"
      ]
    },
    {
      "cell_type": "code",
      "source": [
        "from PIL import Image"
      ],
      "metadata": {
        "id": "m2Fp5MZv8wCk"
      },
      "execution_count": null,
      "outputs": []
    },
    {
      "cell_type": "code",
      "execution_count": null,
      "metadata": {
        "id": "14obGRp7cR5g"
      },
      "outputs": [],
      "source": [
        "# set_white should return true if that pixel should be set white\n",
        "def get_qr(set_white, ouput1, output2, name='', show=True):\n",
        "    mask = Image.open('mask.png').convert('L')\n",
        "    for i in range(33):\n",
        "        for j in range(33):\n",
        "            if mask.getpixel((i, j)) != 0 and mask.getpixel((i, j)) != 255:\n",
        "                if set_white(output1[i, j], output2[i, j]):\n",
        "                    mask.putpixel((i, j), 255)\n",
        "                else:\n",
        "                    mask.putpixel((i, j), 0)\n",
        "    if show:\n",
        "        plt.imshow(mask, cmap='gray')\n",
        "        plt.show()\n",
        "        mask.save(name)\n",
        "    else:\n",
        "        return mask"
      ]
    },
    {
      "cell_type": "code",
      "execution_count": 29,
      "metadata": {
        "colab": {
          "base_uri": "https://localhost:8080/",
          "height": 1000
        },
        "id": "qVozFKW0kCQn",
        "outputId": "d37c6996-c271-4e69-8cc6-ea7728809c16"
      },
      "outputs": [
        {
          "output_type": "display_data",
          "data": {
            "text/plain": [
              "<Figure size 432x288 with 1 Axes>"
            ],
            "image/png": "[encoded data removed]"
          },
          "metadata": {
            "needs_background": "light"
          }
        },
        {
          "output_type": "display_data",
          "data": {
            "text/plain": [
              "<Figure size 432x288 with 1 Axes>"
            ],
            "image/png": "[encoded data removed]"
          },
          "metadata": {
            "needs_background": "light"
          }
        },
        {
          "output_type": "display_data",
          "data": {
            "text/plain": [
              "<Figure size 432x288 with 1 Axes>"
            ],
            "image/png": "[encoded data removed]"
          },
          "metadata": {
            "needs_background": "light"
          }
        },
        {
          "output_type": "display_data",
          "data": {
            "text/plain": [
              "<Figure size 432x288 with 1 Axes>"
            ],
            "image/png": "[encoded data removed]"
          },
          "metadata": {
            "needs_background": "light"
          }
        },
        {
          "output_type": "display_data",
          "data": {
            "text/plain": [
              "<Figure size 432x288 with 1 Axes>"
            ],
            "image/png": "[encoded data removed]"
          },
          "metadata": {
            "needs_background": "light"
          }
        },
        {
          "output_type": "display_data",
          "data": {
            "text/plain": [
              "<Figure size 432x288 with 1 Axes>"
            ],
            "image/png": "[encoded data removed]"
          },
          "metadata": {
            "needs_background": "light"
          }
        },
        {
          "output_type": "display_data",
          "data": {
            "text/plain": [
              "<Figure size 432x288 with 1 Axes>"
            ],
            "image/png": "[encoded data removed]"
          },
          "metadata": {
            "needs_background": "light"
          }
        },
        {
          "output_type": "display_data",
          "data": {
            "text/plain": [
              "<Figure size 432x288 with 1 Axes>"
            ],
            "image/png": "[encoded data removed]"
          },
          "metadata": {
            "needs_background": "light"
          }
        },
        {
          "output_type": "display_data",
          "data": {
            "text/plain": [
              "<Figure size 432x288 with 1 Axes>"
            ],
            "image/png": "[encoded data removed]"
          },
          "metadata": {
            "needs_background": "light"
          }
        },
        {
          "output_type": "display_data",
          "data": {
            "text/plain": [
              "<Figure size 432x288 with 1 Axes>"
            ],
            "image/png": "[encoded data removed]"
          },
          "metadata": {
            "needs_background": "light"
          }
        },
        {
          "output_type": "display_data",
          "data": {
            "text/plain": [
              "<Figure size 432x288 with 1 Axes>"
            ],
            "image/png": "[encoded data removed]"
          },
          "metadata": {
            "needs_background": "light"
          }
        },
        {
          "output_type": "display_data",
          "data": {
            "text/plain": [
              "<Figure size 432x288 with 1 Axes>"
            ],
            "image/png": "[encoded data removed]"
          },
          "metadata": {
            "needs_background": "light"
          }
        },
        {
          "output_type": "display_data",
          "data": {
            "text/plain": [
              "<Figure size 432x288 with 1 Axes>"
            ],
            "image/png": "[encoded data removed]"
          },
          "metadata": {
            "needs_background": "light"
          }
        },
        {
          "output_type": "display_data",
          "data": {
            "text/plain": [
              "<Figure size 432x288 with 1 Axes>"
            ],
            "image/png": "[encoded data removed]"
          },
          "metadata": {
            "needs_background": "light"
          }
        },
        {
          "output_type": "display_data",
          "data": {
            "text/plain": [
              "<Figure size 432x288 with 1 Axes>"
            ],
            "image/png": "[encoded data removed]"
          },
          "metadata": {
            "needs_background": "light"
          }
        }
      ],
      "source": [
        "for i in range(n_epochs):\n",
        "  model = torch.load(f'model{i:02}.pt')\n",
        "  model.eval()\n",
        "  output1, output2 = get_outputs(model, raw=True)\n",
        "  plt.imshow((output1+output2)>1, cmap='gray')\n",
        "  plt.show()"
      ]
    }
  ],
  "metadata": {
    "accelerator": "GPU",
    "colab": {
      "provenance": []
    },
    "deepnote": {},
    "deepnote_app_layout": "article",
    "deepnote_execution_queue": [],
    "deepnote_notebook_id": "19b7cbf3eabc432d8a95d377aff22e0c",
    "gpuClass": "standard",
    "kernelspec": {
      "display_name": "Python 3",
      "language": "python",
      "name": "python3"
    },
    "language_info": {
      "codemirror_mode": {
        "name": "ipython",
        "version": 3
      },
      "file_extension": ".py",
      "mimetype": "text/x-python",
      "name": "python",
      "nbconvert_exporter": "python",
      "pygments_lexer": "ipython3",
      "version": "3.8.10"
    }
  },
  "nbformat": 4,
  "nbformat_minor": 0
}